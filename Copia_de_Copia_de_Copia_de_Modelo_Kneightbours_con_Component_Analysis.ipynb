{
  "nbformat": 4,
  "nbformat_minor": 0,
  "metadata": {
    "colab": {
      "provenance": [],
      "include_colab_link": true
    },
    "kernelspec": {
      "name": "python3",
      "display_name": "Python 3"
    },
    "language_info": {
      "name": "python"
    }
  },
  "cells": [
    {
      "cell_type": "markdown",
      "metadata": {
        "id": "view-in-github",
        "colab_type": "text"
      },
      "source": [
        "<a href=\"https://colab.research.google.com/github/juancho0957/prueba_REPO/blob/main/Copia_de_Copia_de_Copia_de_Modelo_Kneightbours_con_Component_Analysis.ipynb\" target=\"_parent\"><img src=\"https://colab.research.google.com/assets/colab-badge.svg\" alt=\"Open In Colab\"/></a>"
      ]
    },
    {
      "cell_type": "code",
      "source": [],
      "metadata": {
        "id": "xnwsiySlJux1"
      },
      "execution_count": null,
      "outputs": []
    },
    {
      "cell_type": "markdown",
      "source": [],
      "metadata": {
        "id": "ZQyQP8xjJz-k"
      }
    },
    {
      "cell_type": "code",
      "source": [
        "#Codigo necesario para instalar TA-lib\n",
        "!wget http://prdownloads.sourceforge.net/ta-lib/ta-lib-0.4.0-src.tar.gz\n",
        "!tar xvzf ta-lib-0.4.0-src.tar.gz\n",
        "import os\n",
        "os.chdir('ta-lib') # Can't use !cd in co-lab\n",
        "!./configure --prefix=/usr\n",
        "!make\n",
        "!make install\n",
        "os.chdir('../')"
      ],
      "metadata": {
        "id": "jfRSaqqJ11U_"
      },
      "execution_count": null,
      "outputs": []
    },
    {
      "cell_type": "code",
      "execution_count": null,
      "metadata": {
        "id": "sUm7nmHVXY_w"
      },
      "outputs": [],
      "source": [
        "!pip install backtesting\n",
        "!pip install yfinance\n",
        "!pip install TA-Lib"
      ]
    },
    {
      "cell_type": "code",
      "source": [
        "import yfinance as yf\n",
        "data = yf.download('EURUSD=X',start=\"2020-11-25\",end=\"2022-10-21\",interval=\"60m\")"
      ],
      "metadata": {
        "id": "-FFdpYASM3Gc"
      },
      "execution_count": null,
      "outputs": []
    },
    {
      "cell_type": "code",
      "source": [
        "import talib\n",
        "\n",
        "close = data.Close.values\n",
        "sma10 = talib.SMA(data.Close, 10)\n",
        "sma20 = talib.SMA(data.Close, 20)\n",
        "sma50 = talib.SMA(data.Close, 50)\n",
        "sma100 = talib.SMA(data.Close, 100)\n",
        "upper, middle, lower = talib.BBANDS(data.Close, timeperiod=20, nbdevup=2, nbdevdn=2, matype=0)\n",
        "\n",
        "# Design matrix / independent features:\n",
        "# Price-derived features\n",
        "data['X_SMA10'] = (close - sma10) / close\n",
        "data['X_SMA20'] = (close - sma20) / close\n",
        "data['X_SMA50'] = (close - sma50) / close\n",
        "data['X_SMA100'] = (close - sma100) / close\n",
        "\n",
        "data['X_DELTA_SMA10'] = (sma10 - sma20) / close\n",
        "data['X_DELTA_SMA20'] = (sma20 - sma50) / close\n",
        "data['X_DELTA_SMA50'] = (sma50 - sma100) / close\n",
        "\n",
        "# Indicator features\n",
        "data['X_MOM'] = data.Close.pct_change(periods=2)\n",
        "data['X_BB_upper'] = (upper - close) / close\n",
        "data['X_BB_lower'] = (lower - close) / close\n",
        "data['X_BB_width'] = (upper - lower) / close\n",
        "\n",
        "# Some datetime features for good measure\n",
        "data['X_day'] = data.index.dayofweek\n",
        "data['X_hour'] = data.index.hour\n",
        "\n",
        "data = data.dropna().astype(float)"
      ],
      "metadata": {
        "id": "U4vHqmEEXsqj"
      },
      "execution_count": null,
      "outputs": []
    },
    {
      "cell_type": "code",
      "source": [
        "import numpy as np\n",
        "\n",
        "def get_X(data):\n",
        "    \"\"\"Devuelve una matriz de valores de todas las columnas con X inicial en su nombre\"\"\"\n",
        "    return data.filter(like='X').values\n",
        "\n",
        "\n",
        "def get_y(data):\n",
        "    \"\"\"Return dependent variable y\"\"\"\n",
        "    y = data.Close.pct_change(48).shift(-48)  # Returns after roughly two days\n",
        "    y[y.between(-.004, .004)] = 0             # Devalue returns smaller than 0.4%\n",
        "    y[y > 0] = 1                              # Todos estos cambios sirven para saber si subio o no subió, si sube 1, si no, -1\n",
        "    y[y < 0] = -1\n",
        "    return y\n",
        "\n",
        "\n",
        "def get_clean_Xy(df):\n",
        "    \"\"\"Return (X, y) cleaned of NaN values\"\"\"\n",
        "    X = get_X(df)\n",
        "    y = get_y(df).values\n",
        "    isnan = np.isnan(y)\n",
        "    X = X[~isnan] # ~ significa NOT\n",
        "    y = y[~isnan]\n",
        "    return X, y"
      ],
      "metadata": {
        "id": "Fi00dYoQX9o7"
      },
      "execution_count": null,
      "outputs": []
    },
    {
      "cell_type": "code",
      "source": [
        "from sklearn.neighbors import (NeighborhoodComponentsAnalysis,KNeighborsClassifier)\n",
        "from sklearn.model_selection import train_test_split\n",
        "from sklearn.pipeline import Pipeline\n",
        "\n",
        "X, y = get_clean_Xy(data)\n",
        "X_train, X_test, y_train, y_test = train_test_split(X, y, test_size=.3, random_state=42)\n",
        "\n",
        "nca = NeighborhoodComponentsAnalysis(random_state=42)\n",
        "knn = KNeighborsClassifier(n_neighbors=3)\n",
        "nca_pipe = Pipeline([('nca', nca), ('knn', knn)])\n",
        "nca_pipe.fit(X_train, y_train)\n",
        "\n",
        "print(nca_pipe.score(X_test, y_test))"
      ],
      "metadata": {
        "id": "ZM9KLBbSDXqR"
      },
      "execution_count": null,
      "outputs": []
    },
    {
      "cell_type": "code",
      "source": [
        "import pandas as pd\n",
        "\n",
        "y_pred = nca_pipe.predict(X_test)\n",
        "_ = pd.DataFrame({'y_true': y_test, 'y_pred': y_pred}).plot(figsize=(15, 2), alpha=.7)\n",
        "print('Classification accuracy: ', np.mean(y_test == y_pred))"
      ],
      "metadata": {
        "id": "ztFznu7vEC3Y"
      },
      "execution_count": null,
      "outputs": []
    },
    {
      "cell_type": "code",
      "source": [
        "from backtesting import Backtest, Strategy\n",
        "\n",
        "class MLTrainOnceStrategy(Strategy):\n",
        "    price_delta = .004  # 0.4%\n",
        "\n",
        "    def init(self):\n",
        "        # Prepare empty, all-NaN forecast indicator\n",
        "        self.forecasts = self.I(lambda: np.repeat(np.nan, len(self.data)), name='forecast')\n",
        "\n",
        "        self.clf = nca_pipe\n",
        "\n",
        "    def next(self):\n",
        "\n",
        "        # Proceed only with out-of-sample data. Prepare some variables\n",
        "        high, low, close = self.data.High, self.data.Low, self.data.Close\n",
        "        current_time = self.data.index[-1]\n",
        "\n",
        "        # Forecast the next movement\n",
        "        X = get_X(self.data.df.iloc[-1:])\n",
        "        forecast = self.clf.predict(X)[0]\n",
        "\n",
        "        # Update the plotted \"forecast\" indicator\n",
        "        self.forecasts[-1] = forecast\n",
        "\n",
        "        # If our forecast is upwards and we don't already hold a long position\n",
        "        # place a long order for 20% of available account equity. Vice versa for short.\n",
        "        # Also set target take-profit and stop-loss prices to be one price_delta\n",
        "        # away from the current closing price.\n",
        "        upper, lower = close[-1] * (1 + np.r_[1, -1]*self.price_delta)\n",
        "\n",
        "        if forecast == 1 and not self.position.is_long:\n",
        "            self.buy(size=.2, tp=upper, sl=lower)\n",
        "        elif forecast == -1 and not self.position.is_short:\n",
        "            self.sell(size=.2, tp=lower, sl=upper)\n",
        "\n",
        "        # Additionally, set aggressive stop-loss on trades that have been open\n",
        "        # for more than two days\n",
        "        for trade in self.trades:\n",
        "            if current_time - trade.entry_time > pd.Timedelta('2 days'):\n",
        "                if trade.is_long:\n",
        "                    trade.sl = max(trade.sl, low)\n",
        "                else:\n",
        "                    trade.sl = min(trade.sl, high)\n",
        "\n",
        "\n",
        "bt = Backtest(data.iloc[int(data.shape[0]*0.7):], MLTrainOnceStrategy, commission=.0002, margin=.05)"
      ],
      "metadata": {
        "id": "egmgQ8W-_wLF"
      },
      "execution_count": null,
      "outputs": []
    },
    {
      "cell_type": "code",
      "source": [
        "bt.run()"
      ],
      "metadata": {
        "id": "l6BbK4g3HNqE"
      },
      "execution_count": null,
      "outputs": []
    },
    {
      "cell_type": "code",
      "source": [
        "bt.plot()"
      ],
      "metadata": {
        "id": "ck7FdGeqFNWu"
      },
      "execution_count": null,
      "outputs": []
    },
    {
      "cell_type": "code",
      "source": [
        "stats = bt.optimize(\n",
        "    price_delta = [0.01,0.02,0.03,0.04,0.05],\n",
        "    maximize = \"Return [%]\"\n",
        ")\n",
        "stats"
      ],
      "metadata": {
        "id": "OgT36BANHgct"
      },
      "execution_count": null,
      "outputs": []
    },
    {
      "cell_type": "code",
      "source": [
        "stats[\"_strategy\"]"
      ],
      "metadata": {
        "id": "DIC0MGQYIqoe"
      },
      "execution_count": null,
      "outputs": []
    }
  ]
}